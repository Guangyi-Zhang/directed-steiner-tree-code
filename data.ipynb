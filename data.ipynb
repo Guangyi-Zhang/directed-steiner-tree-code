{
 "cells": [
  {
   "cell_type": "code",
   "execution_count": 1,
   "id": "501f952b-5b30-4df2-adf0-294981a8f65e",
   "metadata": {},
   "outputs": [],
   "source": [
    "import numpy as np\n",
    "import networkx as nx"
   ]
  },
  {
   "cell_type": "markdown",
   "id": "284c55c0-dc21-4b59-855a-5452e78bf58f",
   "metadata": {},
   "source": [
    "# Datasets"
   ]
  },
  {
   "cell_type": "code",
   "execution_count": 3,
   "id": "e4887be9-71b5-43fa-8b76-3461d828e6ab",
   "metadata": {},
   "outputs": [],
   "source": [
    "np.random.seed(42)"
   ]
  },
  {
   "cell_type": "code",
   "execution_count": 4,
   "id": "47c3f9a3-96db-4b4a-adc1-ded71301ea56",
   "metadata": {},
   "outputs": [
    {
     "name": "stdout",
     "output_type": "stream",
     "text": [
      "1000 done\n",
      "10000 done\n",
      "100000 done\n",
      "1000000 done\n"
     ]
    }
   ],
   "source": [
    "weighted = True\n",
    "nT = 10\n",
    "nNeighbor = 10\n",
    "\n",
    "for n in [1e3,1e4,1e5,1e6]:\n",
    "    n = int(n)\n",
    "    p = nNeighbor/n\n",
    "    g = nx.fast_gnp_random_graph(n, p, directed=True, seed=42)\n",
    "    print(f\"{n} done\")\n",
    "\n",
    "    edges = []\n",
    "    edgeweights = []\n",
    "    for v, nbrs in g.adj.items(): # n starts with 0\n",
    "        edges.extend([(v, nbr) for nbr, eattr in nbrs.items()]) # eattr['weight']\n",
    "        if weighted:\n",
    "            edgeweights.extend(np.random.rand(len(nbrs)))\n",
    "        else:\n",
    "            edgeweights.extend([1] * len(nbrs))\n",
    "\n",
    "    sp = str(p).replace('.','')\n",
    "    with open(f\"datasets/random_graph_w{weighted}_nghb{nNeighbor}_n{n}.csv\", 'w') as fout:\n",
    "        for e,w in zip(edges, edgeweights):\n",
    "            fout.write(f\"{e[0]},{e[1]},{w}\")\n",
    "            fout.write('\\n')"
   ]
  },
  {
   "cell_type": "code",
   "execution_count": 8,
   "id": "6d99e531-8ed2-49ca-9ecc-26bb1e81f8db",
   "metadata": {},
   "outputs": [
    {
     "name": "stdout",
     "output_type": "stream",
     "text": [
      "1000 done\n"
     ]
    }
   ],
   "source": [
    "# make a dense one\n",
    "\n",
    "weighted = True\n",
    "nT = 10\n",
    "nNeighbor = 100\n",
    "\n",
    "#for n in [1e3,1e4]:\n",
    "for n in [1e3]:\n",
    "    n = int(n)\n",
    "    #nNeighbor = n\n",
    "    p = nNeighbor/n\n",
    "    g = nx.fast_gnp_random_graph(n, p, directed=True, seed=42)\n",
    "    print(f\"{n} done\")\n",
    "\n",
    "    edges = []\n",
    "    edgeweights = []\n",
    "    for v, nbrs in g.adj.items(): # n starts with 0\n",
    "        edges.extend([(v, nbr) for nbr, eattr in nbrs.items()]) # eattr['weight']\n",
    "        if weighted:\n",
    "            edgeweights.extend(np.random.rand(len(nbrs)))\n",
    "        else:\n",
    "            edgeweights.extend([1] * len(nbrs))\n",
    "\n",
    "    sp = str(p).replace('.','')\n",
    "    with open(f\"datasets/random_graph_w{weighted}_nghb{nNeighbor}_n{n}.csv\", 'w') as fout:\n",
    "        for e,w in zip(edges, edgeweights):\n",
    "            fout.write(f\"{e[0]},{e[1]},{w}\")\n",
    "            fout.write('\\n')"
   ]
  }
 ],
 "metadata": {
  "kernelspec": {
   "display_name": "Python [conda env:hst]",
   "language": "python",
   "name": "conda-env-hst-py"
  },
  "language_info": {
   "codemirror_mode": {
    "name": "ipython",
    "version": 3
   },
   "file_extension": ".py",
   "mimetype": "text/x-python",
   "name": "python",
   "nbconvert_exporter": "python",
   "pygments_lexer": "ipython3",
   "version": "3.12.3"
  }
 },
 "nbformat": 4,
 "nbformat_minor": 5
}
